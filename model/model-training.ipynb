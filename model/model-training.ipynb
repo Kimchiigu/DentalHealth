{
 "cells": [
  {
   "cell_type": "markdown",
   "metadata": {},
   "source": [
    "# Libraries and Imports 📚"
   ]
  },
  {
   "cell_type": "code",
   "execution_count": 7,
   "metadata": {
    "execution": {
     "iopub.execute_input": "2024-05-30T16:25:04.648076Z",
     "iopub.status.busy": "2024-05-30T16:25:04.647788Z",
     "iopub.status.idle": "2024-05-30T16:25:13.01816Z",
     "shell.execute_reply": "2024-05-30T16:25:13.017072Z",
     "shell.execute_reply.started": "2024-05-30T16:25:04.648052Z"
    },
    "trusted": true
   },
   "outputs": [],
   "source": [
    "# Import the necessary library\n",
    "import os\n",
    "import shutil\n",
    "import random\n",
    "import numpy as np\n",
    "import matplotlib.pyplot as plt\n",
    "import seaborn as sns\n",
    "from PIL import Image\n",
    "\n",
    "from sklearn.model_selection import train_test_split\n",
    "from sklearn.metrics import accuracy_score, classification_report, confusion_matrix\n",
    "from sklearn.metrics import precision_recall_curve, average_precision_score\n",
    "\n",
    "import torch\n",
    "import torch.nn as nn\n",
    "import torch.optim as optim\n",
    "from torch.optim.lr_scheduler import ReduceLROnPlateau\n",
    "import torchvision.transforms as transforms\n",
    "from torchvision.datasets import ImageFolder\n",
    "from torch.utils.data import DataLoader, random_split\n",
    "from torchvision.models import resnet18"
   ]
  },
  {
   "cell_type": "markdown",
   "metadata": {},
   "source": [
    "## Image Copying and Counting Function 🖼️"
   ]
  },
  {
   "cell_type": "code",
   "execution_count": null,
   "metadata": {
    "_cell_guid": "b1076dfc-b9ad-4769-8c92-a6c4dae69d19",
    "_uuid": "8f2839f25d086af736a60e9eeb907d3b93b6e0e5",
    "execution": {
     "iopub.execute_input": "2024-05-30T16:25:13.020584Z",
     "iopub.status.busy": "2024-05-30T16:25:13.019952Z",
     "iopub.status.idle": "2024-05-30T16:26:04.754581Z",
     "shell.execute_reply": "2024-05-30T16:26:04.753579Z",
     "shell.execute_reply.started": "2024-05-30T16:25:13.020558Z"
    },
    "trusted": true
   },
   "outputs": [],
   "source": [
    "# Define the original directories and their corresponding class names\n",
    "original_dirs = {\n",
    "    'Calculus': './oral-diseases/Calculus',\n",
    "    'Caries': './oral-diseases/Data caries/Data caries/caries augmented data set/preview',\n",
    "    'Gingivitis': './oral-diseases/Gingivitis',\n",
    "    'Ulcers': './oral-diseases/Mouth Ulcer/Mouth Ulcer/Mouth_Ulcer_augmented_DataSet/preview',\n",
    "    'Tooth Discoloration': './oral-diseases/Tooth Discoloration/Tooth Discoloration/Tooth_discoloration_augmented_dataser/preview',\n",
    "    'Hypodontia': './oral-diseases/hypodontia/hypodontia'\n",
    "}\n",
    "\n",
    "# Define the target base directory\n",
    "base_dir = './dataset-folder'\n",
    "\n",
    "# Define the target structure\n",
    "splits = ['train', 'val', 'test']\n",
    "classes = list(original_dirs.keys())\n",
    "\n",
    "# Create target directories\n",
    "for split in splits:\n",
    "    for class_name in classes:\n",
    "        os.makedirs(os.path.join(base_dir, split, class_name), exist_ok=True)\n",
    "\n",
    "# Initialize dictionaries to hold the counts for train, val, and test sets\n",
    "class_split_counts = {class_name: {'train': 0, 'val': 0, 'test': 0} for class_name in classes}\n",
    "\n",
    "# Function to copy images to the target directory and count them\n",
    "def copy_and_count_images(class_name, image_paths):\n",
    "    # Split the data\n",
    "    train_paths, test_paths = train_test_split(image_paths, test_size=0.1, random_state=42)\n",
    "    train_paths, val_paths = train_test_split(train_paths, test_size=0.2, random_state=42)  # 0.2 * 0.9 = 0.18\n",
    "\n",
    "    # Define split mappings\n",
    "    split_paths = {\n",
    "        'train': train_paths,\n",
    "        'val': val_paths,\n",
    "        'test': test_paths\n",
    "    }\n",
    "\n",
    "    # Copy images to their respective directories and count them\n",
    "    for split, paths in split_paths.items():\n",
    "        class_split_counts[class_name][split] = len(paths)\n",
    "        for img_path in paths:\n",
    "            target_path = os.path.join(base_dir, split, class_name, os.path.basename(img_path))\n",
    "            shutil.copy(img_path, target_path)\n",
    "\n",
    "# Traverse the original directories and gather image paths\n",
    "for class_name, original_dir in original_dirs.items():\n",
    "    image_paths = []\n",
    "    for root, dirs, files in os.walk(original_dir):\n",
    "        image_paths.extend([os.path.join(root, file) for file in files if file.endswith(('.jpg', '.jpeg', '.png'))])\n",
    "    if image_paths:\n",
    "        copy_and_count_images(class_name, image_paths)\n",
    "\n",
    "print(\"Images have been copied and organized successfully.\")"
   ]
  },
  {
   "cell_type": "markdown",
   "metadata": {},
   "source": [
    "## Data Visualization - Bar Plot 📊"
   ]
  },
  {
   "cell_type": "code",
   "execution_count": null,
   "metadata": {
    "execution": {
     "iopub.execute_input": "2024-05-30T16:26:06.475732Z",
     "iopub.status.busy": "2024-05-30T16:26:06.475436Z",
     "iopub.status.idle": "2024-05-30T16:26:06.931746Z",
     "shell.execute_reply": "2024-05-30T16:26:06.930872Z",
     "shell.execute_reply.started": "2024-05-30T16:26:06.475708Z"
    },
    "trusted": true
   },
   "outputs": [],
   "source": [
    "# Initialize dictionaries to hold the counts for train, val, and test sets\n",
    "class_split_counts = {class_name: {'train': 0, 'val': 0, 'test': 0} for class_name in classes}\n",
    "\n",
    "# Function to count images in each split\n",
    "def count_images(base_dir, class_name):\n",
    "    counts = {}\n",
    "    for split in ['train', 'val', 'test']:\n",
    "        split_dir = os.path.join(base_dir, split, class_name)\n",
    "        counts[split] = len(os.listdir(split_dir))\n",
    "    return counts\n",
    "\n",
    "# Calculate counts for each class and split\n",
    "for class_name in classes:\n",
    "    class_split_counts[class_name] = count_images(base_dir, class_name)\n",
    "\n",
    "# Create lists for the bar plot\n",
    "labels = classes\n",
    "train_counts = [class_split_counts[class_name]['train'] for class_name in classes]\n",
    "val_counts = [class_split_counts[class_name]['val'] for class_name in classes]\n",
    "test_counts = [class_split_counts[class_name]['test'] for class_name in classes]\n",
    "\n",
    "x = range(len(classes))\n",
    "\n",
    "# Create the stacked bar plot\n",
    "fig, ax = plt.subplots(figsize=(10, 6))\n",
    "\n",
    "bar1 = ax.bar(x, train_counts, label='Train', color='skyblue')\n",
    "bar2 = ax.bar(x, val_counts, bottom=train_counts, label='Val', color='lightgreen')\n",
    "bar3 = ax.bar(x, test_counts, bottom=[i+j for i,j in zip(train_counts, val_counts)], label='Test', color='lightcoral')\n",
    "\n",
    "ax.set_xlabel('Class')\n",
    "ax.set_ylabel('Number of Images')\n",
    "ax.set_title('Number of Images per Class (Train, Val, Test)')\n",
    "ax.set_xticks(x)\n",
    "ax.set_xticklabels(labels, rotation=45)\n",
    "ax.legend()\n",
    "\n",
    "# Add data labels\n",
    "for bar in bar1:\n",
    "    yval = bar.get_height()\n",
    "    ax.text(bar.get_x() + bar.get_width()/2, yval / 2, int(yval), ha='center', va='center', color='black')\n",
    "\n",
    "for bar in bar2:\n",
    "    yval = bar.get_height() + bar.get_y()\n",
    "    ax.text(bar.get_x() + bar.get_width()/2, yval / 2, int(bar.get_height()), ha='center', va='center', color='black')\n",
    "\n",
    "for bar in bar3:\n",
    "    yval = bar.get_height() + bar.get_y()\n",
    "    ax.text(bar.get_x() + bar.get_width()/2, yval / 2, int(bar.get_height()), ha='center', va='center', color='black')\n",
    "\n",
    "plt.tight_layout()\n",
    "plt.show()\n"
   ]
  },
  {
   "cell_type": "markdown",
   "metadata": {},
   "source": [
    "## Model Preparing and Training 🧠"
   ]
  },
  {
   "cell_type": "code",
   "execution_count": 10,
   "metadata": {
    "execution": {
     "iopub.execute_input": "2024-05-30T16:26:06.933176Z",
     "iopub.status.busy": "2024-05-30T16:26:06.932904Z",
     "iopub.status.idle": "2024-05-30T16:26:06.995283Z",
     "shell.execute_reply": "2024-05-30T16:26:06.994624Z",
     "shell.execute_reply.started": "2024-05-30T16:26:06.933153Z"
    },
    "trusted": true
   },
   "outputs": [],
   "source": [
    "# Define directories\n",
    "train_dir = os.path.join(base_dir, 'train')\n",
    "val_dir = os.path.join(base_dir, 'val')\n",
    "test_dir = os.path.join(base_dir, 'test')\n",
    "\n",
    "# Parameters\n",
    "image_size = (128, 128)\n",
    "batch_size = 16\n",
    "num_epochs = 20\n",
    "\n",
    "# Data augmentation and normalization for training\n",
    "train_transforms = transforms.Compose([\n",
    "    transforms.RandomResizedCrop(image_size, scale=(0.8, 1.0)),\n",
    "    transforms.RandomHorizontalFlip(),\n",
    "    transforms.RandomRotation(10),\n",
    "    transforms.ToTensor(),\n",
    "    transforms.Normalize([0.485, 0.456, 0.406], [0.229, 0.224, 0.225]),\n",
    "])\n",
    "\n",
    "# Normalization for validation and testing\n",
    "val_transforms = transforms.Compose([\n",
    "    transforms.Resize(image_size),\n",
    "    transforms.CenterCrop(image_size),\n",
    "    transforms.ToTensor(),\n",
    "    transforms.Normalize([0.485, 0.456, 0.406], [0.229, 0.224, 0.225]),\n",
    "])\n",
    "\n",
    "# Load datasets\n",
    "train_dataset = ImageFolder(train_dir, transform=train_transforms)\n",
    "val_dataset = ImageFolder(val_dir, transform=val_transforms)\n",
    "test_dataset = ImageFolder(test_dir, transform=val_transforms)\n",
    "\n",
    "# Create data loaders\n",
    "train_loader = DataLoader(train_dataset, batch_size=batch_size, shuffle=True, num_workers=4)\n",
    "val_loader = DataLoader(val_dataset, batch_size=batch_size, shuffle=False, num_workers=4)\n",
    "test_loader = DataLoader(test_dataset, batch_size=batch_size, shuffle=False, num_workers=4)"
   ]
  },
  {
   "cell_type": "code",
   "execution_count": null,
   "metadata": {
    "execution": {
     "iopub.execute_input": "2024-05-30T16:26:06.996471Z",
     "iopub.status.busy": "2024-05-30T16:26:06.996207Z",
     "iopub.status.idle": "2024-05-30T16:26:07.871126Z",
     "shell.execute_reply": "2024-05-30T16:26:07.870353Z",
     "shell.execute_reply.started": "2024-05-30T16:26:06.99645Z"
    },
    "trusted": true
   },
   "outputs": [],
   "source": [
    "# Get number of classes\n",
    "num_classes = len(train_dataset.classes)\n",
    "\n",
    "# Use a smaller model - ResNet18\n",
    "class CustomModel(nn.Module):\n",
    "    def __init__(self):\n",
    "        super(CustomModel, self).__init__()\n",
    "        self.model = resnet18(weights=True)\n",
    "        self.model.fc = nn.Linear(self.model.fc.in_features, num_classes)\n",
    "\n",
    "    def forward(self, x):\n",
    "        return self.model(x)\n",
    "\n",
    "# Initialize the model, loss function, and optimizer\n",
    "model = CustomModel()\n",
    "device = torch.device('cuda' if torch.cuda.is_available() else 'cpu')\n",
    "model.to(device)\n",
    "\n",
    "criterion = nn.CrossEntropyLoss()\n",
    "optimizer = optim.Adam(model.parameters(), lr=0.001)"
   ]
  },
  {
   "cell_type": "code",
   "execution_count": null,
   "metadata": {
    "execution": {
     "iopub.execute_input": "2024-05-30T16:26:07.872501Z",
     "iopub.status.busy": "2024-05-30T16:26:07.872221Z",
     "iopub.status.idle": "2024-05-30T16:30:21.978521Z",
     "shell.execute_reply": "2024-05-30T16:30:21.977317Z",
     "shell.execute_reply.started": "2024-05-30T16:26:07.872477Z"
    },
    "trusted": true
   },
   "outputs": [],
   "source": [
    "# Set environment variable to avoid threading issues\n",
    "os.environ[\"OMP_NUM_THREADS\"] = \"1\"\n",
    "\n",
    "# Define the scheduler\n",
    "scheduler = ReduceLROnPlateau(optimizer, mode='min', factor=0.1, patience=2, verbose=True)\n",
    "\n",
    "# Early stopping parameters\n",
    "early_stopping = True\n",
    "patience = 3  # Number of epochs to wait if no improvement is observed\n",
    "\n",
    "# Initialize early stopping variables\n",
    "best_val_loss = float('inf')\n",
    "epochs_no_improve = 0\n",
    "early_stop = False\n",
    "\n",
    "# Initialize lists to store losses, accuracies, and learning rates\n",
    "train_losses = []\n",
    "val_losses = []\n",
    "train_accuracies = []\n",
    "val_accuracies = []\n",
    "\n",
    "# Variables to store y_true and y_scores for precision-recall calculation\n",
    "y_true = []\n",
    "y_scores = []\n",
    "\n",
    "# Training loop\n",
    "for epoch in range(num_epochs):\n",
    "    model.train()\n",
    "    running_loss = 0.0\n",
    "    correct = 0\n",
    "    total = 0\n",
    "    for i, (inputs, labels) in enumerate(train_loader):\n",
    "        inputs, labels = inputs.to(device), labels.to(device)\n",
    "        optimizer.zero_grad()\n",
    "        outputs = model(inputs)\n",
    "        loss = criterion(outputs, labels)\n",
    "        loss.backward()\n",
    "        optimizer.step()\n",
    "        running_loss += loss.item() * inputs.size(0)\n",
    "        _, predicted = torch.max(outputs.data, 1)\n",
    "        total += labels.size(0)\n",
    "        correct += (predicted == labels).sum().item()\n",
    "\n",
    "    epoch_loss = running_loss / len(train_dataset)\n",
    "    epoch_acc = correct / total\n",
    "    train_losses.append(epoch_loss)\n",
    "    train_accuracies.append(epoch_acc)\n",
    "\n",
    "    # Validation\n",
    "    model.eval()\n",
    "    val_loss = 0.0\n",
    "    val_preds = []\n",
    "    val_true = []\n",
    "    val_outputs = []\n",
    "    with torch.no_grad():\n",
    "        for inputs, labels in val_loader:\n",
    "            inputs, labels = inputs.to(device), labels.to(device)\n",
    "            outputs = model(inputs)\n",
    "            loss = criterion(outputs, labels)\n",
    "            val_loss += loss.item() * inputs.size(0)\n",
    "            _, predicted = torch.max(outputs.data, 1)\n",
    "            val_preds.extend(predicted.cpu().numpy())\n",
    "            val_true.extend(labels.cpu().numpy())\n",
    "            val_outputs.extend(outputs.cpu().numpy())\n",
    "\n",
    "    val_loss = val_loss / len(val_dataset)\n",
    "    val_acc = accuracy_score(val_true, val_preds)\n",
    "    val_losses.append(val_loss)\n",
    "    val_accuracies.append(val_acc)\n",
    "\n",
    "    # Append true labels and predicted scores for precision-recall calculation\n",
    "    y_true.extend(val_true)\n",
    "    y_scores.extend(val_outputs)\n",
    "\n",
    "    print(f'Epoch [{epoch+1}/{num_epochs}], Train Loss: {epoch_loss:.4f}, Val Loss: {val_loss:.4f}, Val Acc: {val_acc:.4f}')\n",
    "\n",
    "    # Check for improvement in validation loss\n",
    "    if val_loss < best_val_loss:\n",
    "        best_val_loss = val_loss\n",
    "        epochs_no_improve = 0\n",
    "        # Save the model checkpoint here if you want\n",
    "\n",
    "    else:\n",
    "        epochs_no_improve += 1\n",
    "        if epochs_no_improve >= patience:\n",
    "            print(f'Early stopping after {epoch+1} epochs.')\n",
    "            early_stop = True\n",
    "            break\n",
    "\n",
    "    # LR scheduler step based on validation loss\n",
    "    scheduler.step(val_loss)\n",
    "\n",
    "    if early_stop:\n",
    "        break"
   ]
  },
  {
   "cell_type": "code",
   "execution_count": 18,
   "metadata": {},
   "outputs": [],
   "source": [
    "torch.save(model, \"model_complete.pth\")"
   ]
  },
  {
   "cell_type": "markdown",
   "metadata": {},
   "source": [
    "## Model Evaluation 📉"
   ]
  },
  {
   "cell_type": "code",
   "execution_count": null,
   "metadata": {
    "execution": {
     "iopub.execute_input": "2024-05-30T16:30:21.980243Z",
     "iopub.status.busy": "2024-05-30T16:30:21.97992Z",
     "iopub.status.idle": "2024-05-30T16:30:23.37976Z",
     "shell.execute_reply": "2024-05-30T16:30:23.378566Z",
     "shell.execute_reply.started": "2024-05-30T16:30:21.980211Z"
    },
    "trusted": true
   },
   "outputs": [],
   "source": [
    "# Test the model\n",
    "model.eval()\n",
    "test_preds = []\n",
    "test_true = []\n",
    "with torch.no_grad():\n",
    "    for inputs, labels in test_loader:\n",
    "        inputs, labels = inputs.to(device), labels.to(device)\n",
    "        outputs = model(inputs)\n",
    "        _, predicted = torch.max(outputs.data, 1)\n",
    "        test_preds.extend(predicted.cpu().numpy())\n",
    "        test_true.extend(labels.cpu().numpy())\n",
    "\n",
    "test_acc = accuracy_score(test_true, test_preds)\n",
    "print(f'Test Accuracy: {test_acc:.4f}')"
   ]
  },
  {
   "cell_type": "code",
   "execution_count": null,
   "metadata": {
    "execution": {
     "iopub.execute_input": "2024-05-30T16:30:23.381689Z",
     "iopub.status.busy": "2024-05-30T16:30:23.38131Z",
     "iopub.status.idle": "2024-05-30T16:30:24.041877Z",
     "shell.execute_reply": "2024-05-30T16:30:24.040864Z",
     "shell.execute_reply.started": "2024-05-30T16:30:23.381649Z"
    },
    "trusted": true
   },
   "outputs": [],
   "source": [
    "# Plotting loss and accuracy in subplots\n",
    "fig, (ax1, ax2) = plt.subplots(1, 2, figsize=(12, 4))\n",
    "\n",
    "# Plotting loss\n",
    "ax1.plot(train_losses, label='Train Loss')\n",
    "ax1.plot(val_losses, label='Validation Loss')\n",
    "ax1.set_title('Loss Curves')\n",
    "ax1.set_xlabel('Epochs')\n",
    "ax1.set_ylabel('Loss')\n",
    "ax1.legend()\n",
    "\n",
    "# Plotting accuracy\n",
    "ax2.plot(train_accuracies, label='Train Accuracy')\n",
    "ax2.plot(val_accuracies, label='Validation Accuracy')\n",
    "ax2.set_title('Accuracy Curves')\n",
    "ax2.set_xlabel('Epochs')\n",
    "ax2.set_ylabel('Accuracy')\n",
    "ax2.legend()\n",
    "\n",
    "plt.tight_layout()\n",
    "plt.show()"
   ]
  },
  {
   "cell_type": "code",
   "execution_count": null,
   "metadata": {
    "execution": {
     "iopub.execute_input": "2024-05-30T16:30:24.045968Z",
     "iopub.status.busy": "2024-05-30T16:30:24.045318Z",
     "iopub.status.idle": "2024-05-30T16:30:24.063178Z",
     "shell.execute_reply": "2024-05-30T16:30:24.062304Z",
     "shell.execute_reply.started": "2024-05-30T16:30:24.045932Z"
    },
    "trusted": true
   },
   "outputs": [],
   "source": [
    "# Generate classification report\n",
    "class_names = test_dataset.classes\n",
    "report = classification_report(test_true, test_preds, target_names=class_names)\n",
    "\n",
    "# Display classification report\n",
    "print(\"Classification Report:\")\n",
    "print(report)"
   ]
  },
  {
   "cell_type": "code",
   "execution_count": null,
   "metadata": {
    "execution": {
     "iopub.execute_input": "2024-05-30T16:30:24.064546Z",
     "iopub.status.busy": "2024-05-30T16:30:24.064257Z",
     "iopub.status.idle": "2024-05-30T16:30:25.725711Z",
     "shell.execute_reply": "2024-05-30T16:30:25.724709Z",
     "shell.execute_reply.started": "2024-05-30T16:30:24.064524Z"
    },
    "trusted": true
   },
   "outputs": [],
   "source": [
    "# Get predictions for the test set\n",
    "model.eval()\n",
    "y_true = []\n",
    "y_pred = []\n",
    "with torch.no_grad():\n",
    "    for inputs, labels in test_loader:\n",
    "        inputs, labels = inputs.to(device), labels.to(device)\n",
    "        outputs = model(inputs)\n",
    "        _, predicted = torch.max(outputs.data, 1)\n",
    "        y_true.extend(labels.cpu().numpy())\n",
    "        y_pred.extend(predicted.cpu().numpy())\n",
    "\n",
    "# Calculate confusion matrix\n",
    "conf_mat = confusion_matrix(y_true, y_pred)\n",
    "\n",
    "# Plot confusion matrix\n",
    "plt.figure(figsize=(6, 6))\n",
    "sns.heatmap(conf_mat, annot=True, fmt='d', cmap='Blues', cbar=False)\n",
    "plt.xlabel('Predicted Labels')\n",
    "plt.ylabel('True Labels')\n",
    "plt.title('Confusion Matrix')\n",
    "plt.show()"
   ]
  }
 ],
 "metadata": {
  "kaggle": {
   "accelerator": "gpu",
   "dataSources": [
    {
     "datasetId": 2729190,
     "sourceId": 8019084,
     "sourceType": "datasetVersion"
    }
   ],
   "dockerImageVersionId": 30698,
   "isGpuEnabled": true,
   "isInternetEnabled": false,
   "language": "python",
   "sourceType": "notebook"
  },
  "kernelspec": {
   "display_name": "Python 3",
   "language": "python",
   "name": "python3"
  },
  "language_info": {
   "codemirror_mode": {
    "name": "ipython",
    "version": 3
   },
   "file_extension": ".py",
   "mimetype": "text/x-python",
   "name": "python",
   "nbconvert_exporter": "python",
   "pygments_lexer": "ipython3",
   "version": "3.7.6"
  }
 },
 "nbformat": 4,
 "nbformat_minor": 4
}
